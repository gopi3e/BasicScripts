{
 "cells": [
  {
   "cell_type": "code",
   "execution_count": null,
   "metadata": {},
   "outputs": [],
   "source": [
    "print('Hello Python world!')"
   ]
  },
  {
   "cell_type": "code",
   "execution_count": null,
   "metadata": {},
   "outputs": [],
   "source": [
    "students = ['bernice', 'aaron', 'cody']\n",
    "\n",
    "for student in students:\n",
    "    print(\"Hello, \" + student.title() + \"!\")\n",
    "    \n",
    "    print(\"Lovely Day!!\")"
   ]
  },
  {
   "cell_type": "code",
   "execution_count": null,
   "metadata": {},
   "outputs": [],
   "source": [
    "x =students[-1]"
   ]
  },
  {
   "cell_type": "code",
   "execution_count": null,
   "metadata": {},
   "outputs": [],
   "source": [
    "x.upper()"
   ]
  },
  {
   "cell_type": "code",
   "execution_count": null,
   "metadata": {},
   "outputs": [],
   "source": [
    "len(students)"
   ]
  },
  {
   "cell_type": "code",
   "execution_count": null,
   "metadata": {},
   "outputs": [],
   "source": [
    "dogs = ['border collie', 'australian cattle dog', 'labrador retriever']\n",
    "\n",
    "print(\"Results for the dog show are as follows:\\n\")\n",
    "for index, dog in enumerate(dogs):\n",
    "    place = str(index)\n",
    "    print(\"Place: \" + place + \" Dog: \" + dog.title())\n"
   ]
  },
  {
   "cell_type": "code",
   "execution_count": null,
   "metadata": {},
   "outputs": [],
   "source": [
    "\"http://pythontutor.com/\""
   ]
  },
  {
   "cell_type": "code",
   "execution_count": null,
   "metadata": {},
   "outputs": [],
   "source": [
    "# Print the first ten odd numbers.\n",
    "for idx, number in enumerate(range(21,1,-2)):\n",
    "    print(str(idx) +':' +str(number))"
   ]
  },
  {
   "cell_type": "code",
   "execution_count": null,
   "metadata": {},
   "outputs": [],
   "source": [
    "# Store the first ten square numbers in a list.\n",
    "squares = [number**3 for number in range(1,11)]\n",
    "\n",
    "# Show that our list is correct.\n",
    "for square in squares:\n",
    "    print(square)"
   ]
  },
  {
   "cell_type": "code",
   "execution_count": null,
   "metadata": {},
   "outputs": [],
   "source": [
    "# Store the first ten square numbers in a list.\n",
    "squares = {number:number**2 for number in range(1,11,2)}\n",
    "\n",
    "# Show that our list is correct.\n",
    "for square in squares.items():\n",
    "    print(square)"
   ]
  },
  {
   "cell_type": "code",
   "execution_count": null,
   "metadata": {},
   "outputs": [],
   "source": [
    "colors = ('red', 'green', 'blue')\n",
    "print(\"The first color is: \" + colors[0])\n",
    "\n",
    "print(\"\\nThe available colors are:\")\n",
    "for color in colors:\n",
    "    print(\"- \" + color)"
   ]
  },
  {
   "cell_type": "code",
   "execution_count": null,
   "metadata": {},
   "outputs": [],
   "source": [
    "colors = ('red', 'green', 'blue')\n",
    "colors.append('purple')"
   ]
  },
  {
   "cell_type": "code",
   "execution_count": null,
   "metadata": {},
   "outputs": [],
   "source": [
    "def show_students(students, message):\n",
    "    # Print out a message, and then the list of students\n",
    "    print(message)\n",
    "    for student in students:\n",
    "        print(student)"
   ]
  },
  {
   "cell_type": "code",
   "execution_count": null,
   "metadata": {},
   "outputs": [],
   "source": [
    "students = ['bernice', 'aaron', 'cody']\n",
    "\n",
    "# Put students in alphabetical order.\n",
    "students.sort()\n",
    "show_students(students, \"Our students are currently in alphabetical order.\")\n",
    "\n",
    "#Put students in reverse alphabetical order.\n",
    "students.sort(reverse=True)\n",
    "show_students(students, \"\\nOur students are now in reverse alphabetical order.\")"
   ]
  },
  {
   "cell_type": "code",
   "execution_count": null,
   "metadata": {},
   "outputs": [],
   "source": [
    "dogs = ['willie', 'hootz', 'peso', 'monty', 'juno', 'turkey']\n",
    "\n",
    "if len(dogs) >= 5:\n",
    "    print(\"Holy mackerel, we might as well start a dog hostel!\")\n",
    "elif len(dogs) >= 3:\n",
    "    print(\"Wow, we have a lot of dogs here!\")\n",
    "else:\n",
    "    print(\"Okay, this is a reasonable number of dogs.\")"
   ]
  },
  {
   "cell_type": "code",
   "execution_count": null,
   "metadata": {},
   "outputs": [],
   "source": [
    "# Define the actions for each choice we want to offer.\n",
    "def ride_bicycle():\n",
    "    print(\"\\nHere's a bicycle. Have fun!\\n\")\n",
    "    \n",
    "def go_running():\n",
    "    print(\"\\nHere are some running shoes. Run fast!\\n\")\n",
    "    \n",
    "def climb_mountain():\n",
    "    print(\"\\nHere's a map. Can you leave a trip plan for us?\\n\")\n",
    "\n",
    "# Give the user some context.\n",
    "print(\"\\nWelcome to the nature center. What would you like to do?\")\n",
    "\n",
    "# Set an initial value for choice other than the value for 'quit'.\n",
    "choice = ''\n",
    "\n",
    "# Start a loop that runs until the user enters the value for 'quit'.\n",
    "while choice != 'q':\n",
    "    # Give all the choices in a series of print statements.\n",
    "    print(\"\\n[1] Enter 1 to take a bicycle ride.\")\n",
    "    print(\"[2] Enter 2 to go for a run.\")\n",
    "    print(\"[3] Enter 3 to climb a mountain.\")\n",
    "    print(\"[q] Enter q to quit.\")\n",
    "    \n",
    "    # Ask for the user's choice.\n",
    "    choice = input(\"\\nWhat would you like to do? \")\n",
    "    \n",
    "    # Respond to the user's choice.\n",
    "    if choice == '1':\n",
    "        ride_bicycle()\n",
    "    elif choice == '2':\n",
    "        go_running()\n",
    "    elif choice == '3':\n",
    "        climb_mountain()\n",
    "    elif choice == 'q':\n",
    "        print(\"\\nThanks for playing. See you later.\\n\")\n",
    "    else:\n",
    "        print(\"\\nI don't understand that choice, please try again.\\n\")\n",
    "        \n",
    "# Print a message that we are all finished.\n",
    "print(\"Thanks again, bye now.\")\n"
   ]
  },
  {
   "cell_type": "code",
   "execution_count": null,
   "metadata": {},
   "outputs": [],
   "source": [
    "# This program stores people's favorite numbers, and displays them.\n",
    "favorite_numbers = {'eric': [3, 11, 19, 23, 42],\n",
    "                    'ever': [2, 4, 5],\n",
    "                    'willie': [5, 35, 120],\n",
    "                    }\n"
   ]
  },
  {
   "cell_type": "code",
   "execution_count": null,
   "metadata": {},
   "outputs": [],
   "source": [
    "for i in favorite_numbers.values():\n",
    "    print(i)\n",
    "    if len(i) > 1:\n",
    "        print(i[0])"
   ]
  },
  {
   "cell_type": "code",
   "execution_count": null,
   "metadata": {},
   "outputs": [],
   "source": [
    "\n",
    "# Display each person's favorite numbers.\n",
    "print(\"Eric's favorite numbers are:\")\n",
    "print(favorite_numbers['eric'])\n",
    "\n",
    "print(\"\\nEver's favorite numbers are:\")\n",
    "print(favorite_numbers['ever'])\n",
    "\n",
    "print(\"\\nWillie's favorite numbers are:\")\n",
    "print(favorite_numbers['willie'])"
   ]
  },
  {
   "cell_type": "code",
   "execution_count": null,
   "metadata": {},
   "outputs": [],
   "source": [
    "python_words = {'list': 'A collection of values that are not connected, but have an order.',\n",
    "                'dictionary': 'A collection of key-value pairs.',\n",
    "                'function': 'A named set of instructions that defines a set of actions in Python.',\n",
    "                }\n"
   ]
  },
  {
   "cell_type": "code",
   "execution_count": null,
   "metadata": {},
   "outputs": [],
   "source": [
    "python_words.items()"
   ]
  },
  {
   "cell_type": "code",
   "execution_count": null,
   "metadata": {},
   "outputs": [],
   "source": [
    "\n",
    "for word, meaning in python_words.items():\n",
    "    print(\"\\nWord: %s\" % word)\n",
    "    print(\"Meaning: %s\" % meaning)"
   ]
  },
  {
   "cell_type": "code",
   "execution_count": null,
   "metadata": {},
   "outputs": [],
   "source": [
    "# This program stores information about pets. For each pet,\n",
    "#   we store the kind of animal, the owner's name, and\n",
    "#   the breed.\n",
    "pets = {'willie': {'kind': 'dog', 'owner': 'eric', 'vaccinated': True},\n",
    "        'walter': {'kind': 'cockroach', 'owner': 'eric', 'vaccinated': False},\n",
    "        'peso': {'kind': 'dog', 'owner': 'chloe', 'vaccinated': True},\n",
    "        }\n",
    "\n",
    "# Let's show all the information for each pet.\n",
    "for pet_name, pet_information in pets.items():\n",
    "    print(\"\\nHere is what I know about %s:\" % pet_name.title())\n",
    "    print(\"kind: \" + pet_information['kind'])\n",
    "    print(\"owner: \" + pet_information['owner'])\n",
    "    print(\"vaccinated: \" + str(pet_information['vaccinated']))"
   ]
  },
  {
   "cell_type": "code",
   "execution_count": null,
   "metadata": {},
   "outputs": [],
   "source": [
    "def describe_person(first_name, last_name, age=None, favorite_language=None, died=None):\n",
    "    # This function takes in a person's first and last name,\n",
    "    #  their age, and their favorite language.\n",
    "    # It then prints this information out in a simple format.\n",
    "    \n",
    "    # Required information:\n",
    "    print(\"First name: %s\" % first_name.title())\n",
    "    print(\"Last name: %s\" % last_name.title())\n",
    "    \n",
    "    # Optional information:\n",
    "    if age:\n",
    "        print(\"Age: %d\" % age)\n",
    "    if favorite_language:\n",
    "        print(\"Favorite language: %s\" % favorite_language)\n",
    "    if died:\n",
    "        print(\"Died: %d\" % died)\n",
    "    \n",
    "    # Blank line at end.\n",
    "    print(\"\\n\")\n",
    "\n",
    "describe_person('brian', 'kernighan', favorite_language='C')\n",
    "describe_person('ken', 'thompson', age=70)\n",
    "describe_person('adele', 'goldberg', age=68, favorite_language='Smalltalk')\n",
    "describe_person('dennis', 'ritchie', favorite_language='C', died=2011)\n",
    "describe_person('guido', 'van rossum', favorite_language='Python')"
   ]
  },
  {
   "cell_type": "code",
   "execution_count": null,
   "metadata": {},
   "outputs": [],
   "source": [
    "class Rocket():\n",
    "    # Rocket simulates a rocket ship for a game,\n",
    "    #  or a physics simulation.\n",
    "    \n",
    "    def __init__(self):\n",
    "        # Each rocket has an (x,y) position.\n",
    "        self.x = 0\n",
    "        self.y = 0\n",
    "        \n",
    "    def move_up(self):\n",
    "        # Increment the y-position of the rocket.\n",
    "        self.y += 1\n",
    "\n",
    "# Create a Rocket object, and have it start to move up.\n",
    "my_rocket = Rocket()\n",
    "print(\"Rocket altitude:\", my_rocket.y)\n",
    "\n",
    "my_rocket.move_up()\n",
    "print(\"Rocket altitude:\", my_rocket.y)\n",
    "\n",
    "my_rocket.move_up()\n",
    "print(\"Rocket altitude:\", my_rocket.y)"
   ]
  },
  {
   "cell_type": "code",
   "execution_count": null,
   "metadata": {},
   "outputs": [],
   "source": [
    "from math import sqrt\n",
    "\n",
    "class Rocket():\n",
    "    # Rocket simulates a rocket ship for a game,\n",
    "    #  or a physics simulation.\n",
    "    \n",
    "    def __init__(self, x=0, y=0):\n",
    "        # Each rocket has an (x,y) position.\n",
    "        self.x = x\n",
    "        self.y = y\n",
    "        \n",
    "    def move_rocket(self, x_increment=0, y_increment=1):\n",
    "        # Move the rocket according to the paremeters given.\n",
    "        #  Default behavior is to move the rocket up one unit.\n",
    "        self.x += x_increment\n",
    "        self.y += y_increment\n",
    "        \n",
    "    def get_distance(self, other_rocket):\n",
    "        # Calculates the distance from this rocket to another rocket,\n",
    "        #  and returns that value.\n",
    "        distance = sqrt((self.x-other_rocket.x)**2+(self.y-other_rocket.y)**2)\n",
    "        return distance\n",
    "    \n",
    "# Make two rockets, at different places.\n",
    "rocket_0 = Rocket()\n",
    "rocket_1 = Rocket(10,5)\n",
    "\n",
    "# Show the distance between them.\n",
    "distance = rocket_0.get_distance(rocket_1)\n",
    "print(\"The rockets are %f units apart.\" % distance)"
   ]
  },
  {
   "cell_type": "code",
   "execution_count": null,
   "metadata": {},
   "outputs": [],
   "source": [
    "from math import sqrt\n",
    "from random import randint\n",
    "\n",
    "class Rocket():\n",
    "    # Rocket simulates a rocket ship for a game,\n",
    "    #  or a physics simulation.\n",
    "    \n",
    "    def __init__(self, x=0, y=0):\n",
    "        # Each rocket has an (x,y) position.\n",
    "        self.x = x\n",
    "        self.y = y\n",
    "        \n",
    "    def move_rocket(self, x_increment=0, y_increment=1):\n",
    "        # Move the rocket according to the paremeters given.\n",
    "        #  Default behavior is to move the rocket up one unit.\n",
    "        self.x += x_increment\n",
    "        self.y += y_increment\n",
    "        \n",
    "    def get_distance(self, other_rocket):\n",
    "        # Calculates the distance from this rocket to another rocket,\n",
    "        #  and returns that value.\n",
    "        distance = sqrt((self.x-other_rocket.x)**2+(self.y-other_rocket.y)**2)\n",
    "        return distance\n",
    "    \n",
    "class Shuttle(Rocket):\n",
    "    # Shuttle simulates a space shuttle, which is really\n",
    "    #  just a reusable rocket.\n",
    "    \n",
    "    def __init__(self, x=0, y=0, flights_completed=0):\n",
    "        super().__init__(x, y)\n",
    "        self.flights_completed = flights_completed\n",
    "        \n",
    "        \n",
    "# Create several shuttles and rockets, with random positions.\n",
    "#  Shuttles have a random number of flights completed.\n",
    "shuttles = []\n",
    "for x in range(0,3):\n",
    "    x = randint(0,100)\n",
    "    y = randint(1,100)\n",
    "    flights_completed = randint(0,10)\n",
    "    shuttles.append(Shuttle(x, y, flights_completed))\n",
    "\n",
    "rockets = []\n",
    "for x in range(0,3):\n",
    "    x = randint(0,100)\n",
    "    y = randint(1,100)\n",
    "    rockets.append(Rocket(x, y))\n",
    "    \n",
    "# Show the number of flights completed for each shuttle.\n",
    "for index, shuttle in enumerate(shuttles):\n",
    "    print(\"Shuttle %d has completed %d flights.\" % (index, shuttle.flights_completed))\n",
    "    \n",
    "print(\"\\n\")    \n",
    "# Show the distance from the first shuttle to all other shuttles.\n",
    "first_shuttle = shuttles[0]\n",
    "for index, shuttle in enumerate(shuttles):\n",
    "    distance = first_shuttle.get_distance(shuttle)\n",
    "    print(\"The first shuttle is %f units away from shuttle %d.\" % (distance, index))\n",
    "\n",
    "print(\"\\n\")\n",
    "# Show the distance from the first shuttle to all other rockets.\n",
    "for index, rocket in enumerate(rockets):\n",
    "    distance = first_shuttle.get_distance(rocket)\n",
    "    print(\"The first shuttle is %f units away from rocket %d.\" % (distance, index))"
   ]
  },
  {
   "cell_type": "markdown",
   "metadata": {},
   "source": [
    "# Numpy"
   ]
  },
  {
   "cell_type": "code",
   "execution_count": null,
   "metadata": {},
   "outputs": [],
   "source": [
    "import numpy as np"
   ]
  },
  {
   "cell_type": "code",
   "execution_count": null,
   "metadata": {},
   "outputs": [],
   "source": [
    "x = np.arange(5,18,2)\n",
    "print(\"x     =\", x)"
   ]
  },
  {
   "cell_type": "code",
   "execution_count": null,
   "metadata": {},
   "outputs": [],
   "source": [
    "print(\"x + 5 =\", x + 5)\n",
    "print(\"x - 5 =\", x - 5)\n",
    "print(\"x * 2 =\", x * 2)\n",
    "print(\"x / 2 =\", x / 2)\n",
    "print(\"x // 2 =\", x // 2)"
   ]
  },
  {
   "cell_type": "code",
   "execution_count": null,
   "metadata": {},
   "outputs": [],
   "source": [
    "print(\"-x     = \", -x)\n",
    "print(\"x ** 2 = \", x ** 2)\n",
    "print(\"x % 2  = \", x % 2)"
   ]
  },
  {
   "cell_type": "code",
   "execution_count": null,
   "metadata": {},
   "outputs": [],
   "source": [
    "\n",
    "\n",
    "x = [-1, 0, 1]\n",
    "print(\"x         = \", x)\n",
    "print(\"arcsin(x) = \", np.arcsin(x))\n",
    "print(\"arccos(x) = \", np.arccos(x))\n",
    "print(\"arctan(x) = \", np.arctan(x))\n",
    "\n"
   ]
  },
  {
   "cell_type": "code",
   "execution_count": null,
   "metadata": {},
   "outputs": [],
   "source": [
    "height_range = ['x','y','z']"
   ]
  },
  {
   "cell_type": "code",
   "execution_count": null,
   "metadata": {},
   "outputs": [],
   "source": [
    "height_range = list(range(160,200))"
   ]
  },
  {
   "cell_type": "code",
   "execution_count": null,
   "metadata": {},
   "outputs": [],
   "source": [
    "import random"
   ]
  },
  {
   "cell_type": "code",
   "execution_count": null,
   "metadata": {},
   "outputs": [],
   "source": [
    "rnd_heights = random.choices(height_range, k = 2)"
   ]
  },
  {
   "cell_type": "code",
   "execution_count": null,
   "metadata": {},
   "outputs": [],
   "source": [
    "rnd_heights"
   ]
  },
  {
   "cell_type": "code",
   "execution_count": null,
   "metadata": {},
   "outputs": [],
   "source": [
    "heights = np.array(rnd_heights)"
   ]
  },
  {
   "cell_type": "code",
   "execution_count": null,
   "metadata": {},
   "outputs": [],
   "source": [
    "heights"
   ]
  },
  {
   "cell_type": "code",
   "execution_count": null,
   "metadata": {},
   "outputs": [],
   "source": [
    "print(\"Mean height:       \", heights.mean())\n",
    "print(\"Standard deviation:\", heights.std())\n",
    "print(\"Minimum height:    \", heights.min())\n",
    "print(\"Maximum height:    \", heights.max())"
   ]
  },
  {
   "cell_type": "code",
   "execution_count": null,
   "metadata": {},
   "outputs": [],
   "source": [
    "print(\"25th percentile:   \", np.percentile(heights, 25))\n",
    "print(\"Median:            \", np.median(heights))\n",
    "print(\"75th percentile:   \", np.percentile(heights, 75))"
   ]
  },
  {
   "cell_type": "code",
   "execution_count": null,
   "metadata": {},
   "outputs": [],
   "source": [
    "%matplotlib inline\n",
    "import matplotlib.pyplot as plt"
   ]
  },
  {
   "cell_type": "code",
   "execution_count": null,
   "metadata": {},
   "outputs": [],
   "source": [
    "plt.hist(heights)\n",
    "plt.xlabel('height (cm)')\n",
    "plt.ylabel('number');"
   ]
  },
  {
   "cell_type": "markdown",
   "metadata": {
    "collapsed": true
   },
   "source": [
    "# Pandas\n",
    "\n",
    "In the interest of time, lets gloss over:\n",
    "\n",
    "https://github.com/jdwittenauer/ipython-notebooks/blob/master/notebooks/libraries/Pandas.ipynb"
   ]
  },
  {
   "cell_type": "code",
   "execution_count": null,
   "metadata": {},
   "outputs": [],
   "source": []
  },
  {
   "cell_type": "code",
   "execution_count": null,
   "metadata": {},
   "outputs": [],
   "source": []
  }
 ],
 "metadata": {
  "kernelspec": {
   "display_name": "Python 3",
   "language": "python",
   "name": "python3"
  },
  "language_info": {
   "codemirror_mode": {
    "name": "ipython",
    "version": 3
   },
   "file_extension": ".py",
   "mimetype": "text/x-python",
   "name": "python",
   "nbconvert_exporter": "python",
   "pygments_lexer": "ipython3",
   "version": "3.6.5"
  }
 },
 "nbformat": 4,
 "nbformat_minor": 2
}
